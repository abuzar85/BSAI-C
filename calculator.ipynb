{
 "cells": [
  {
   "cell_type": "code",
   "execution_count": null,
   "id": "a3953ce1",
   "metadata": {},
   "outputs": [
    {
     "name": "stdout",
     "output_type": "stream",
     "text": [
      "Dynamic Calculator Started!\n",
      "Type 'exit' to stop.\n",
      "\n",
      "Result = 13\n",
      "Calculator Closed.\n"
     ]
    }
   ],
   "source": [
    "class Calculator:\n",
    "    def __init__(self):\n",
    "        print(\"Dynamic Calculator Started!\")\n",
    "        print(\"Type 'exit' to stop.\\n\")\n",
    "\n",
    "    def evaluate(self, expression):\n",
    "        \"\"\"\n",
    "        Evaluate math expression safely.\n",
    "        Supports: +, -, *, /, **, (), abs(), round()\n",
    "        \"\"\"\n",
    "        try:\n",
    "            expression = expression.replace(\"^\", \"**\")\n",
    "            \n",
    "            allowed_names = {\n",
    "                \"pi\": 3.14159,\n",
    "                \"e\": 2.71828,\n",
    "                \"abs\": abs,\n",
    "                \"round\": round\n",
    "            }\n",
    "\n",
    "            result = eval(expression, {\"__builtins__\": None}, allowed_names)\n",
    "            return result\n",
    "        except Exception as e:\n",
    "            return f\"Error: {e}\"\n",
    "\n",
    "\n",
    "calc = Calculator()\n",
    "while True:\n",
    "    expr = input(\"Enter expression: \")\n",
    "    if expr.lower() == \"exit\":\n",
    "        print(\"Calculator Closed.\")\n",
    "        break\n",
    "    print(\"Result =\", calc.evaluate(expr))"
   ]
  }
 ],
 "metadata": {
  "kernelspec": {
   "display_name": "base",
   "language": "python",
   "name": "python3"
  },
  "language_info": {
   "codemirror_mode": {
    "name": "ipython",
    "version": 3
   },
   "file_extension": ".py",
   "mimetype": "text/x-python",
   "name": "python",
   "nbconvert_exporter": "python",
   "pygments_lexer": "ipython3",
   "version": "3.12.7"
  }
 },
 "nbformat": 4,
 "nbformat_minor": 5
}
